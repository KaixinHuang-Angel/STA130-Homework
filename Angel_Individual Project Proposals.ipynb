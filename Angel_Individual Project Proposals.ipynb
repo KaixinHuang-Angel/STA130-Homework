{
 "cells": [
  {
   "cell_type": "code",
   "execution_count": 14,
   "id": "622371d5",
   "metadata": {},
   "outputs": [
    {
     "data": {
      "text/plain": [
       "(11431, 1779)"
      ]
     },
     "execution_count": 14,
     "metadata": {},
     "output_type": "execute_result"
    }
   ],
   "source": [
    "import pandas as pd\n",
    "\n",
    "cols = pd.read_csv(\"var_names.csv\")\n",
    "data = pd.read_csv(\"CSCS_data_anon.csv\",\n",
    "                   na_values=[\"9999\", \"\", \" \", \"Presented but no response\", \"NA\"], low_memory=False)\n",
    "empty = (data.isna().sum()==data.shape[0])\n",
    "data = data[empty.index[~empty]] # keep non empty columns only\n",
    "\n",
    "data.shape"
   ]
  },
  {
   "cell_type": "markdown",
   "id": "ce2629ef",
   "metadata": {},
   "source": [
    "Analysis 1: Relationship Between Gender and Body Image Satisfaction\n",
    "    \n",
    "    Research Question: Does gender affect body image satisfaction among participants? Focusing specifically on men and women.\n",
    "    \n",
    "    Variables: \n",
    "        Independent Variable: DEMO_gender\n",
    "            The gender of each participants, only looking at men and women.\n",
    "        Dependent Variable: PSYCH_body_self_image_questionnaire_fatness_evaluation_score and PSYCH_body_self_image_questionnaire_height_dissatisfaction_score\n",
    "            The level of  satisfaction or dissatisfaction with the participant's height and body image concerning fatness.\n",
    "            \n",
    "    Visualization: \n",
    "        Box Plots for the two scores for the two genders: This illustrate the median, quartiles, and spread of body image satisfaction levels across genders, which shows the visible differences in the central tendency and variability of body image satisfaction by gender.\n",
    "        Bar graph showing the mean or median scores for each gender: This is used to compare central tendencies for quick interpretation, we are able to roughly compare the scores for each gender and get a basic idea about the data.\n",
    "            \n",
    "    Analysis: linear regression model for fatness evaluation score and height dissatisfaction score\n",
    "        This method is useful in analysing the difference between the the scores among the two genders. \n",
    "        First, I will filter the data and keep only participants with gender man and woman, then I will make a binary variable where 1 represents participants that are woman and 0 represents participants that are men. \n",
    "        After setting my variable, I will set up two linear regression model where each of the scores are the dependent variable and the binary variable is the independent variable, the model can be written as the equation Body Image Score = β₀+β₁(Binary Variable)+ϵ. \n",
    "        After fitting the model, we interpret the coefficient, and β₁ would tells us the average difference in the scores between women and men.\n",
    "        Some assumptions of this model includes: The relationship between gender and body image satisfaction should be linear. The observations should be independent. The residuals should have constant variance. The residuals should be normally distributed.\n",
    "\n",
    "    Hypothesis: The β₁ coefficient would be positive, indicating that women will report higher dissatisfaction with their body image compared to men. With this result, the analysis would provide a clear and quantitative measure of the difference in body image satisfaction between men and women. It would provide an answer to the research question of does gender affect body image satisfaction.\n",
    "    \n",
    "        "
   ]
  },
  {
   "cell_type": "markdown",
   "id": "c35025ca",
   "metadata": {},
   "source": [
    "Analysis 2: Geographic Region and Neighborhood Satisfaction with Traffic\n",
    "\n",
    "    Research Question: How does the condition of traffic differ in different province? Does participants in different region report a different levels of satisfaction regarding traffic in their neighborhoods.\n",
    "    \n",
    "    Variables: \n",
    "        Independent: GEO_province - provinces in Canada\n",
    "        Dependent Variable: GEO_neighbourhood_satisfaction_traffic - participant's level of satisfaction regarding traffic in their neighbourhood, with a higher score representing a higher level of satisfaction with traffic conditions. \n",
    "        \n",
    "    Visualization:  \n",
    "        Box plot for the level of satisfaction regarding traffic in each province. This could show us a clear distribution of the scores in different provinces, with the outliers also presented.\n",
    "        \n",
    "        \n",
    "    Analysis: Comparison of the average satisfaction score between provinces.\n",
    "        Find the central tendency like mean and median for the scores in each province, compare it visually using a bar graph. Through this, we can easily compare the scores in different provinces and see how the average score differ in each province. Also, we can create a graph of the score for each province, add in lines that shows the mean and median, and overlap the graphs to compare it more directly. \n",
    "    \n",
    "\n",
    "    Hypothesis: Regions that are more urban and more populated with a higher density would have a lower satisfaction score regarding traffic in their neighborhoods. This would answer my research question of how does the condition of traffic differ. If the hypothesis turns out to be correct, then we can say that high-density urban regions experience more traffic."
   ]
  },
  {
   "cell_type": "markdown",
   "id": "683f563f",
   "metadata": {},
   "source": [
    "Analysis 3: Relationship between comfort level in talking with strangers and actual interaction with stangers.\n",
    "\n",
    "    Research Question: Is there a relationship between a participant's comfort in talking with strangers and the actual number of strangers they interacted with in the past week?\n",
    "\n",
    "    Variables:\n",
    "        Independent: CONNECTION_comfort_talking_with_strangers - how comfortable the participant is talking with strangers\n",
    "        Dependent Variable: CONNECTION_social_num_strangers_p7d - the number of strangers the participant interacted with more than five minutes in the past week\n",
    "    \n",
    "    Visualization: \n",
    "        Scatter Plot of comfort level versus number of strangers interacted with to visualize any trend or correlation between comfort level and social interactions.\n",
    "        Box Plot of the average number of stranger interacted with by comfort level category to show differences in the distribution of interactions across comfort levels.\n",
    "    \n",
    "    Analysis: simple linear regression model\n",
    "        We take CONNECTION_comfort_talking_with_strangers as the predictor variable(X), and CONNECTION_social_num_strangers_p7d as the outcome variable(Y). \n",
    "        Then, we use a simple liner regression model with the equation Y = β₀ + β₁X + ϵ. β₀ is the intercept coefficient, representing the expected number of stranger interacted with when the comfort level is zero. β₁ is the slope coefficient, representing the expected change in the number of stranger interacted with for per unit increase in comfort level. ϵ is the error term, capturing the variability not explained by the model.\n",
    "        After that, we fit the model and interpret the coefficients. A positive β₁ suggests that as comfort level increases, the frequency of interactions with strangers also increases. The p-value for β₁ tests whether the observed relationship between comfort level and interactions is statistically significant. The R-squared value shows how much of the variance in stranger interaction frequency can be explained by comfort level.\n",
    "        For this model, we assume that the relationship between comfort level and stranger interactions is linear, the residuals are normally distributed, and that the residuals have constant variance across all levels of the predictor.\n",
    "\n",
    "    Hypothesis: Participants who are more comfortable talking to strangers will have interacted with more strangers in the past week. We expect a positive correlation between the participant's comfort with talking to strangers and the number of strangers they interact with. If the hypothesis is accurate, we can answer the question and say that there is a relationship between the two variables, and we can state what the relationship is.\n",
    "    "
   ]
  }
 ],
 "metadata": {
  "kernelspec": {
   "display_name": "Python 3 (ipykernel)",
   "language": "python",
   "name": "python3"
  },
  "language_info": {
   "codemirror_mode": {
    "name": "ipython",
    "version": 3
   },
   "file_extension": ".py",
   "mimetype": "text/x-python",
   "name": "python",
   "nbconvert_exporter": "python",
   "pygments_lexer": "ipython3",
   "version": "3.11.6"
  }
 },
 "nbformat": 4,
 "nbformat_minor": 5
}
